{
 "cells": [
  {
   "cell_type": "code",
   "execution_count": 3,
   "metadata": {},
   "outputs": [
    {
     "name": "stdout",
     "output_type": "stream",
     "text": [
      "<class 'list'> ['append', 'clear', 'copy', 'count', 'extend', 'index', 'insert', 'pop', 'remove', 'reverse', 'sort']\n",
      "{1: 1, 2: 3, 3: 2, 4: 2, 7: 2, 8: 1, 6: 1, 9: 1, 5: 1}\n"
     ]
    }
   ],
   "source": [
    "import et\n",
    "\n",
    "L = [1,2,3,2,4,2,7,8,3,6,7,4,9,5]\n",
    "\n",
    "et.dir_(L)\n",
    "print(et.count_e(L))"
   ]
  },
  {
   "cell_type": "code",
   "execution_count": 4,
   "metadata": {},
   "outputs": [
    {
     "name": "stdout",
     "output_type": "stream",
     "text": [
      "[1, 2, 3, 2, 4, 2, 7, 8, 3, 6, 7, 4, 9, 5]\n",
      "[1, 2, 3, 2, 4, 2, 7, 8, 3, 6, 7, 4, 9, 5, 33]\n",
      "{1: 1, 2: 3, 3: 2, 4: 2, 7: 2, 8: 1, 6: 1, 9: 1, 5: 1, 33: 1}\n",
      "[1, 8, 6, 9, 5, 33]\n",
      "[2, 3, 4, 7]\n"
     ]
    }
   ],
   "source": [
    "L_new = et.list_(L)\n",
    "print(L_new)\n",
    "L_new.append(33)\n",
    "print(L_new)\n",
    "print(L_new.freq_())\n",
    "print(L_new.unique_())\n",
    "print(L_new.repeat_())"
   ]
  },
  {
   "cell_type": "code",
   "execution_count": 5,
   "metadata": {},
   "outputs": [
    {
     "name": "stdout",
     "output_type": "stream",
     "text": [
      "<class 'et.list_'> ['append', 'clear', 'copy', 'count', 'extend', 'freq_', 'index', 'insert', 'pop', 'remove', 'repeat_', 'reverse', 'sort', 'unique_']\n"
     ]
    }
   ],
   "source": [
    "et.dir_(L_new)"
   ]
  }
 ],
 "metadata": {
  "kernelspec": {
   "display_name": "Python 3",
   "language": "python",
   "name": "python3"
  },
  "language_info": {
   "codemirror_mode": {
    "name": "ipython",
    "version": 3
   },
   "file_extension": ".py",
   "mimetype": "text/x-python",
   "name": "python",
   "nbconvert_exporter": "python",
   "pygments_lexer": "ipython3",
   "version": "3.12.6"
  }
 },
 "nbformat": 4,
 "nbformat_minor": 2
}
